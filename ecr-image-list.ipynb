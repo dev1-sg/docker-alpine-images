{
 "cells": [
  {
   "cell_type": "markdown",
   "id": "7fe39d85",
   "metadata": {},
   "source": [
    "## Docker Images List\n",
    "\n",
    "[https://gallery.ecr.aws/dev1-sg/](https://gallery.ecr.aws/dev1-sg/)\n",
    "\n",
    "| # | Repository Name | Group | URI | Latest Tag | Image Size (MB) |\n",
    "|---|-----------------|-------|-----|------------|-----------------|\n",
    "| 1 | [base/alpine](https://gallery.ecr.aws/dev1-sg/base/alpine) | base | public.ecr.aws/dev1-sg/base/alpine | 3.22 | 48.96 |\n",
    "| 2 | [base/dev](https://gallery.ecr.aws/dev1-sg/base/dev) | base | public.ecr.aws/dev1-sg/base/dev | 1.0.0 | 3.95 |\n",
    "| 3 | [base/golang](https://gallery.ecr.aws/dev1-sg/base/golang) | base | public.ecr.aws/dev1-sg/base/golang | 1.24.4 | 123.30 |\n",
    "| 4 | [base/golang-python](https://gallery.ecr.aws/dev1-sg/base/golang-python) | base | public.ecr.aws/dev1-sg/base/golang-python | 1.24.4-3.13.5 | 194.61 |\n",
    "| 5 | [base/node](https://gallery.ecr.aws/dev1-sg/base/node) | base | public.ecr.aws/dev1-sg/base/node | 24.3.0 | 98.57 |\n",
    "| 6 | [base/python](https://gallery.ecr.aws/dev1-sg/base/python) | base | public.ecr.aws/dev1-sg/base/python | <none> | 0.01 |\n",
    "| 7 | [base/ubuntu](https://gallery.ecr.aws/dev1-sg/base/ubuntu) | base | public.ecr.aws/dev1-sg/base/ubuntu | noble | 118.07 |\n",
    "\n",
    "\n",
    "---\n",
    "\n",
    "last_updated: Mon Jun 30 12:13:41 2025 +08"
   ]
  }
 ],
 "metadata": {},
 "nbformat": 4,
 "nbformat_minor": 5
}
